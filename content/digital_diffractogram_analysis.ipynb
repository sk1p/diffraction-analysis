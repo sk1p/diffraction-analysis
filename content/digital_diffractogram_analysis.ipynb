{
  "metadata": {
    "language_info": {
      "codemirror_mode": {
        "name": "python",
        "version": 3
      },
      "file_extension": ".py",
      "mimetype": "text/x-python",
      "name": "python",
      "nbconvert_exporter": "python",
      "pygments_lexer": "ipython3",
      "version": "3.8"
    },
    "kernelspec": {
      "name": "python",
      "display_name": "Python (Pyodide)",
      "language": "python"
    }
  },
  "nbformat_minor": 4,
  "nbformat": 4,
  "cells": [
    {
      "cell_type": "code",
      "source": "%pip install seaborn\n%pip install ipympl",
      "metadata": {
        "trusted": true
      },
      "execution_count": null,
      "outputs": []
    },
    {
      "cell_type": "code",
      "source": "%matplotlib widget",
      "metadata": {
        "trusted": true
      },
      "execution_count": null,
      "outputs": []
    },
    {
      "cell_type": "code",
      "source": "import contextlib\nimport matplotlib.pyplot as plt\nimport numpy as np\nimport pandas as pd\nimport seaborn as sns\nfrom sklearn.linear_model import LinearRegression\nimport PIL",
      "metadata": {
        "trusted": true
      },
      "execution_count": null,
      "outputs": []
    },
    {
      "cell_type": "code",
      "source": "# helper function for loading input images\nasync def load_img(name):\n    from js import fetch\n    import pickle\n    import io\n\n    URL = f\"https://raw.githubusercontent.com/sk1p/diffractogram-analysis/main/content/{name}\"\n\n    res = await fetch(URL)\n    buffer = await res.arrayBuffer() \n\n    data = buffer.to_py()\n\n    data_buf = io.BytesIO(data)\n    return data_buf",
      "metadata": {
        "trusted": true
      },
      "execution_count": null,
      "outputs": []
    },
    {
      "cell_type": "code",
      "source": "rings_buf = await load_img(\"data/rings.jpg\")\nwith PIL.Image.open(rings_buf) as im:\n    rings = np.asarray(im)",
      "metadata": {
        "trusted": true
      },
      "execution_count": null,
      "outputs": []
    },
    {
      "cell_type": "code",
      "source": "sns.set()",
      "metadata": {
        "trusted": true
      },
      "execution_count": null,
      "outputs": []
    },
    {
      "cell_type": "markdown",
      "source": "# Step 1: Calibrate the image\n\nPick the pixel positions between identical gold diffraction\nspots on opposite sides of the origin of the digital diffractogram. This defines the center and scale of the diffractogram.\n\nHover the mouse over the image that is plotted with the cell below. It should show the position in pixel coordinates and the RGB value under the cursor.\n\nThe cell below should look like this:\n\n```python\nspot_pair = np.array([\n    (y1, x1),\n    (y2, x2)\n]\n```",
      "metadata": {}
    },
    {
      "cell_type": "code",
      "source": "fig, axes = plt.subplots()\naxes.imshow(rings)",
      "metadata": {
        "trusted": true
      },
      "execution_count": null,
      "outputs": []
    },
    {
      "cell_type": "code",
      "source": "spot_pair = np.array([\n    (98, 256), # y1, x1\n    (210, 92),  # y2, x2\n])",
      "metadata": {
        "trusted": true
      },
      "execution_count": null,
      "outputs": []
    },
    {
      "cell_type": "markdown",
      "source": "## Validation",
      "metadata": {}
    },
    {
      "cell_type": "code",
      "source": "fig, axes = plt.subplots()\naxes.imshow(rings)\nfor (y, x) in spot_pair:\n    axes.scatter(x, y)",
      "metadata": {
        "trusted": true
      },
      "execution_count": null,
      "outputs": []
    },
    {
      "cell_type": "markdown",
      "source": "## Calculate spot distance, radius and center",
      "metadata": {}
    },
    {
      "cell_type": "code",
      "source": "distance = np.linalg.norm(spot_pair[1] - spot_pair[0])\nradius = distance / 2\ncenter = np.mean(spot_pair, axis=0)\ndistance, radius, center",
      "metadata": {
        "trusted": true
      },
      "execution_count": null,
      "outputs": []
    },
    {
      "cell_type": "markdown",
      "source": "# Step 2: enter your measured points\n\nEnter successive rows of `n` and (y, x) pixel coordinates on the ring-shaped minima and maxima corresponding to `n`. Even values for `n` are minima and odd values maxima of the ring pattern. You can enter several rows with pixel coordinates for the same `n` to improve the accuracy.\n\nBy making use of prior knowledge that the image was recorded underfocus, successive rings correspond to values of `n` of -2, -4, -6, etc.\n\nThe cell below should look like this:\n\n```python\nmeasured_points = [\n    (n1, (y1, x1)),\n    (n2, (y2, x2)),\n    (n3, (y3, x3)),\n    (n4, (y4, x4)),\n    # etc.\n]\n```",
      "metadata": {}
    },
    {
      "cell_type": "code",
      "source": "fig, axes = plt.subplots()\naxes.imshow(rings)",
      "metadata": {
        "trusted": true
      },
      "execution_count": null,
      "outputs": []
    },
    {
      "cell_type": "code",
      "source": "measured_points = [\n    # insert your measurements here:\n    # (2, (157, 208)),\n    # (2, (163, 142)),\n    # (3, (137, 211)),\n    # ...\n    \n    (-2, (157, 208)),\n    (-2, (163, 142)),\n    (-3, (137, 211)),\n    (-10, (107, 244)),\n]",
      "metadata": {
        "trusted": true
      },
      "execution_count": null,
      "outputs": []
    },
    {
      "cell_type": "markdown",
      "source": "At least two points with different `n` are required for fitting!",
      "metadata": {}
    },
    {
      "cell_type": "code",
      "source": "if len(measured_points) < 2:\n    raise RuntimeError(\"Please update `measured_points` above! There have to be at least two (n, u) rows!\")",
      "metadata": {
        "trusted": true
      },
      "execution_count": null,
      "outputs": []
    },
    {
      "cell_type": "markdown",
      "source": "# Step 3: Check the measured points\n\nConfirm that all coordinates are entered correctly. Red points should be placed on maxima and blue points on minima",
      "metadata": {}
    },
    {
      "cell_type": "code",
      "source": "def is_odd(x):\n    # bitwise and\n    return x & 1\n\nfig, axes = plt.subplots()\naxes.imshow(rings)\nfor i, (n, (y, x)) in enumerate(measured_points):\n    color = 'red' if is_odd(n) else 'blue'\n    axes.scatter(x, y, c=color)\n    axes.annotate(f'#{i}: n={n}', (x + 6, y + 3), c=color)",
      "metadata": {
        "trusted": true
      },
      "execution_count": null,
      "outputs": []
    },
    {
      "cell_type": "markdown",
      "source": "# Step 4: Convert pixel coordinates to physical coordinates\n\nUse the calibration and the known value for gold to convert the position of the rings to distance from the center in nm$^{-1}$",
      "metadata": {}
    },
    {
      "cell_type": "code",
      "source": "ring_distances = [(n, np.linalg.norm((y, x) - center)) for (n, (y, x)) in measured_points]",
      "metadata": {
        "trusted": true
      },
      "execution_count": null,
      "outputs": []
    },
    {
      "cell_type": "code",
      "source": "gold_spacing = 1/0.235  # unit: nm^-1",
      "metadata": {
        "trusted": true
      },
      "execution_count": null,
      "outputs": []
    },
    {
      "cell_type": "code",
      "source": "ring_spacing = [(n, u_pixel / radius * gold_spacing) for (n, u_pixel) in ring_distances]",
      "metadata": {
        "trusted": true
      },
      "execution_count": null,
      "outputs": []
    },
    {
      "cell_type": "markdown",
      "source": "# Step 5: calculate u^2 and n/u^2",
      "metadata": {}
    },
    {
      "cell_type": "code",
      "source": "calculated = [\n    (n, u, u**2, n/(u**2))\n    for (n, u) in ring_spacing\n]",
      "metadata": {
        "trusted": true
      },
      "execution_count": null,
      "outputs": []
    },
    {
      "cell_type": "code",
      "source": "df = pd.DataFrame(calculated, columns=[\"n\", \"u\", \"u^2\", \"n/u^2\"])\ndf",
      "metadata": {
        "trusted": true
      },
      "execution_count": null,
      "outputs": []
    },
    {
      "cell_type": "markdown",
      "source": "# Step 6: Linear fit and plot",
      "metadata": {}
    },
    {
      "cell_type": "code",
      "source": "lin = LinearRegression()\nlin.fit(df[['u^2']].values, df['n/u^2'].values)\n\nax = df.plot.scatter(x='u^2', y='n/u^2')\n# Evaluate the fit at the intercept and at the maximum for plotting the fit line\nx_points = np.array([0, np.max(df['u^2'])])\nax.plot(x_points, lin.predict(x_points[:, np.newaxis]), c='r')",
      "metadata": {
        "trusted": true
      },
      "execution_count": null,
      "outputs": []
    },
    {
      "cell_type": "markdown",
      "source": "# Step 6: Extract slope and intercept from the fit",
      "metadata": {}
    },
    {
      "cell_type": "code",
      "source": "lin.intercept_",
      "metadata": {
        "trusted": true
      },
      "execution_count": null,
      "outputs": []
    },
    {
      "cell_type": "code",
      "source": "lin.coef_",
      "metadata": {
        "trusted": true
      },
      "execution_count": null,
      "outputs": []
    },
    {
      "cell_type": "markdown",
      "source": "# Step 7: Determine $\\Delta f$ and Cs",
      "metadata": {}
    },
    {
      "cell_type": "code",
      "source": "lamb = 0.00251  # unit: nm",
      "metadata": {
        "trusted": true
      },
      "execution_count": null,
      "outputs": []
    },
    {
      "cell_type": "code",
      "source": "Df = lin.intercept_ / 2 /lamb\nDf",
      "metadata": {
        "trusted": true
      },
      "execution_count": null,
      "outputs": []
    },
    {
      "cell_type": "code",
      "source": "Cs = lin.coef_[0] / lamb**3\nCs",
      "metadata": {
        "trusted": true
      },
      "execution_count": null,
      "outputs": []
    },
    {
      "cell_type": "code",
      "source": "",
      "metadata": {},
      "execution_count": null,
      "outputs": []
    }
  ]
}
